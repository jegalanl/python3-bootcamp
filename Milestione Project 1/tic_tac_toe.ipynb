{
 "cells": [
  {
   "cell_type": "code",
   "execution_count": 1,
   "metadata": {},
   "outputs": [],
   "source": [
    "# Print the board\n",
    "from IPython.display import clear_output\n",
    "\n",
    "def print_board(board):\n",
    "    clear_output()\n",
    "    \n",
    "    print(\"- - - - - - - - - -\")\n",
    "    print(\"|     |     |     |\")\n",
    "    print(f\"|  {board[6]}  |  {board[7]}  |  {board[8]}  |\")\n",
    "    print(\"|     |     |     |\")\n",
    "    print(\"- - - - - - - - - -\")\n",
    "    print(\"|     |     |     |\")\n",
    "    print(f\"|  {board[3]}  |  {board[4]}  |  {board[5]}  |\")\n",
    "    print(\"|     |     |     |\")\n",
    "    print(\"- - - - - - - - - -\")\n",
    "    print(\"|     |     |     |\")\n",
    "    print(f\"|  {board[0]}  |  {board[1]}  |  {board[2]}  |\")\n",
    "    print(\"|     |     |     |\")\n",
    "    print(\"- - - - - - - - - -\")"
   ]
  },
  {
   "cell_type": "code",
   "execution_count": 2,
   "metadata": {},
   "outputs": [],
   "source": [
    "def player_input(board):\n",
    "    position = -1\n",
    "    while position not in range(1, 10) or board[position-1] != ' ':\n",
    "        position = int(input(\"Please select a empty position between 1 and 9\"))\n",
    "    \n",
    "    return position"
   ]
  },
  {
   "cell_type": "code",
   "execution_count": 3,
   "metadata": {},
   "outputs": [],
   "source": [
    "def update_board(board,player,position):\n",
    "    board[position-1] = player"
   ]
  },
  {
   "cell_type": "code",
   "execution_count": 4,
   "metadata": {},
   "outputs": [],
   "source": [
    "def select_player():\n",
    "    marker = ''\n",
    "    options = ['X','x','O','o']\n",
    "\n",
    "    while marker not in options:\n",
    "        marker = input(\"Please pick a marker 'X' or 'O'\").upper()\n",
    "\n",
    "    if marker == 'X':\n",
    "        return 'X','O'\n",
    "    else:\n",
    "        return 'O','X'"
   ]
  },
  {
   "cell_type": "code",
   "execution_count": 5,
   "metadata": {},
   "outputs": [],
   "source": [
    "import random\n",
    "\n",
    "def choose_first():\n",
    "    if random.randint(0, 1) == 0:\n",
    "        return 1,2\n",
    "    else:\n",
    "        return 2,1"
   ]
  },
  {
   "cell_type": "code",
   "execution_count": 6,
   "metadata": {},
   "outputs": [],
   "source": [
    "def check_win(board, mark):    \n",
    "    return ((board[6] == mark and board[7] == mark and board[8] == mark) or # across the top\n",
    "    (board[3] == mark and board[4] == mark and board[5] == mark) or # across the middle\n",
    "    (board[0] == mark and board[1] == mark and board[2] == mark) or # across the bottom\n",
    "    (board[6] == mark and board[3] == mark and board[0] == mark) or # down the middle\n",
    "    (board[7] == mark and board[4] == mark and board[1] == mark) or # down the middle\n",
    "    (board[8] == mark and board[5] == mark and board[2] == mark) or # down the right side\n",
    "    (board[6] == mark and board[4] == mark and board[2] == mark) or # diagonal\n",
    "    (board[8] == mark and board[4] == mark and board[0] == mark)) # diagonal\n"
   ]
  },
  {
   "cell_type": "code",
   "execution_count": 7,
   "metadata": {},
   "outputs": [
    {
     "name": "stdout",
     "output_type": "stream",
     "text": [
      "- - - - - - - - - -\n",
      "|     |     |     |\n",
      "|  X  |  O  |  X  |\n",
      "|     |     |     |\n",
      "- - - - - - - - - -\n",
      "|     |     |     |\n",
      "|  X  |  O  |  O  |\n",
      "|     |     |     |\n",
      "- - - - - - - - - -\n",
      "|     |     |     |\n",
      "|  O  |  X  |  O  |\n",
      "|     |     |     |\n",
      "- - - - - - - - - -\n",
      "Its a draw!\n",
      "Do yo want to play again? [y/n]N\n",
      "Goodbye!\n"
     ]
    }
   ],
   "source": [
    "while True:\n",
    "    # Init the board and other variables\n",
    "\n",
    "    board = [' ']*9\n",
    "    finish = False\n",
    "    winner = ''\n",
    "    turns = 0\n",
    "    \n",
    "    player1 = {'mark':'','turn':0}\n",
    "    player2 = {'mark':'','turn':0}\n",
    "\n",
    "    # Pick marker\n",
    "\n",
    "    player1['mark'], player2['mark'] = select_player()\n",
    "    player1['turn'], player2['turn'] = choose_first()\n",
    "        \n",
    "    print(\"Player 1 plays with {}\".format(player1['mark']))\n",
    "    print(\"Player 2 plays with {}\".format(player2['mark']))\n",
    "\n",
    "    # While the game is not finish\n",
    "\n",
    "    while not finish:\n",
    "        if player1['turn'] == 1:\n",
    "            # Player1 moves\n",
    "            print(\"Player's 1 turn\")\n",
    "            position = player_input(board)\n",
    "            update_board(board, player1['mark'],position)\n",
    "            print_board(board)\n",
    "            player1['turn'] = 2\n",
    "            if check_win(board,player1['mark']):\n",
    "                winner = \"Player 1\"\n",
    "                finish = True\n",
    "        else:\n",
    "            # Player 2 moves\n",
    "            print(\"Player's 2 turn\")\n",
    "            position = player_input(board)\n",
    "            update_board(board, player2['mark'],position)\n",
    "            print_board(board)\n",
    "            player1['turn'] = 1\n",
    "            if check_win(board, player2['mark']):\n",
    "                winner = \"Player 2\"\n",
    "                finish = True\n",
    "\n",
    "        turns += 1\n",
    "        if turns == 9:\n",
    "            finish = True\n",
    "\n",
    "\n",
    "    if winner:\n",
    "        print(\"The winner is {}\".format(winner))\n",
    "    else:\n",
    "        print(\"Its a draw!\")\n",
    "        \n",
    "    option = ''\n",
    "    while option.lower() != 'y' and option.lower() != 'n': \n",
    "        option = input(\"Do yo want to play again? [y/n]\")\n",
    "    \n",
    "    if option.lower() == 'y':\n",
    "        continue\n",
    "    if option.lower() == 'n':\n",
    "        print(\"Goodbye!\")\n",
    "        break\n",
    "    \n",
    "    "
   ]
  }
 ],
 "metadata": {
  "kernelspec": {
   "display_name": "Python 3",
   "language": "python",
   "name": "python3"
  },
  "language_info": {
   "codemirror_mode": {
    "name": "ipython",
    "version": 3
   },
   "file_extension": ".py",
   "mimetype": "text/x-python",
   "name": "python",
   "nbconvert_exporter": "python",
   "pygments_lexer": "ipython3",
   "version": "3.7.6"
  }
 },
 "nbformat": 4,
 "nbformat_minor": 4
}
